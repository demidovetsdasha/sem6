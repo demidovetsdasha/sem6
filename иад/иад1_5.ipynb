{
 "cells": [
  {
   "cell_type": "markdown",
   "id": "5e1759fd-fde4-4fb9-9c5d-ee278d64e259",
   "metadata": {},
   "source": [
    "Задание 5: Сравнение методов отбора признаков. Используйте один и тот же набор данных для применения различных методов отбора признаков, включая корреляционные методы, и сравните результаты."
   ]
  },
  {
   "cell_type": "code",
   "execution_count": 2,
   "id": "4a393006-3f3b-4322-8fad-43b4fdace9b6",
   "metadata": {},
   "outputs": [],
   "source": [
    "import numpy as np\n",
    "import pandas as pd\n",
    "import matplotlib.pyplot as plt\n",
    "import seaborn as sns\n",
    "from sklearn.datasets import load_diabetes\n",
    "from sklearn.feature_selection import RFE\n",
    "from sklearn.ensemble import RandomForestRegressor\n",
    "from sklearn.linear_model import Lasso, LinearRegression\n",
    "from sklearn.decomposition import PCA\n",
    "from sklearn.model_selection import train_test_split\n",
    "from sklearn.preprocessing import StandardScaler\n",
    "from sklearn.metrics import mean_squared_error\n",
    "from scipy.stats import spearmanr\n",
    "\n",
    "# Загружаем данные\n",
    "data = load_diabetes()\n",
    "df = pd.DataFrame(data.data, columns=data.feature_names)\n",
    "df['TARGET'] = data.target  # Целевая переменная (регрессия)\n",
    "\n",
    "# Разделяем на признаки и целевую переменную\n",
    "X = df.drop(columns=['TARGET'])\n",
    "y = df['TARGET']\n",
    "scaler = StandardScaler()\n",
    "X_scaled = scaler.fit_transform(X)\n",
    "X_scaled = pd.DataFrame(X_scaled, columns=X.columns)\n",
    "\n",
    "# Разделяем train/test\n",
    "X_train, X_test, y_train, y_test = train_test_split(X_scaled, y, test_size=0.2, random_state=42)"
   ]
  },
  {
   "cell_type": "markdown",
   "id": "c588c658-4476-4315-a883-54822840605c",
   "metadata": {},
   "source": [
    "Корреляция Спирмена: Оценивает связь между признаками и целевой переменной, основываясь на ранговой корреляции(присваивая ранги признакам)."
   ]
  },
  {
   "cell_type": "code",
   "execution_count": 4,
   "id": "308e486a-de1f-4b34-90f2-4f3daea66171",
   "metadata": {},
   "outputs": [
    {
     "name": "stdout",
     "output_type": "stream",
     "text": [
      "Spearman MSE: 2936.48\n"
     ]
    }
   ],
   "source": [
    "# применяем корр. Спирмена\n",
    "spearman_corr = pd.Series([spearmanr(X[col], y)[0] for col in X.columns], index=X.columns)\n",
    "spearman_selected_features = spearman_corr.abs().sort_values(ascending=False).index[:5].tolist()\n",
    "\n",
    "X_train_spearman = X_train[spearman_selected_features]\n",
    "X_test_spearman = X_test[spearman_selected_features]\n",
    "\n",
    "# Применяем линейную регрессию для обучения\n",
    "model = LinearRegression()\n",
    "model.fit(X_train_spearman, y_train)\n",
    "y_pred_spearman = model.predict(X_test_spearman)\n",
    "mse_spearman = mean_squared_error(y_test, y_pred_spearman)\n",
    "\n",
    "print(f\"Spearman MSE: {mse_spearman:.2f}\")"
   ]
  },
  {
   "cell_type": "markdown",
   "id": "99b63f77-587e-478c-a222-b3e65aaff8b4",
   "metadata": {},
   "source": [
    "Recursive Feature Elimination: итеративно удаляет наименее важные признаки, оставляя только самые значимые."
   ]
  },
  {
   "cell_type": "code",
   "execution_count": 24,
   "id": "5f85cb1b-2bd2-4fed-8e01-29b6d129398c",
   "metadata": {},
   "outputs": [
    {
     "name": "stdout",
     "output_type": "stream",
     "text": [
      "RFE MSE: 2976.49\n"
     ]
    }
   ],
   "source": [
    "# применяем линейную регрессию и затем RFE\n",
    "rfe_model = LinearRegression()\n",
    "rfe = RFE(rfe_model, n_features_to_select=5)\n",
    "rfe.fit(X_train, y_train)\n",
    "rfe_selected_features = X.columns[rfe.support_].tolist()\n",
    "\n",
    "X_train_rfe = X_train[rfe_selected_features]\n",
    "X_test_rfe = X_test[rfe_selected_features]\n",
    "\n",
    "model.fit(X_train_rfe, y_train)\n",
    "y_pred_rfe = model.predict(X_test_rfe)\n",
    "mse_rfe = mean_squared_error(y_test, y_pred_rfe)\n",
    "\n",
    "print(f\"RFE MSE: {mse_rfe:.2f}\")"
   ]
  },
  {
   "cell_type": "markdown",
   "id": "4d55eac6-6bcb-4795-bb1b-b70dd1b91623",
   "metadata": {},
   "source": [
    "Lasso (L1-регуляризация): обнуляет коэффициенты у незначимых признаков, помогая автоматически отбирать самые важные"
   ]
  },
  {
   "cell_type": "code",
   "execution_count": 8,
   "id": "d4def545-cb25-46be-83f0-ea9b9b2159db",
   "metadata": {},
   "outputs": [
    {
     "name": "stdout",
     "output_type": "stream",
     "text": [
      "Lasso MSE: 2976.49\n"
     ]
    }
   ],
   "source": [
    "lasso = Lasso(alpha=0.1)\n",
    "lasso.fit(X_train, y_train)\n",
    "lasso_selected_features = X.columns[np.argsort(np.abs(lasso.coef_))[-5:]].tolist()\n",
    "\n",
    "X_train_lasso = X_train[lasso_selected_features]\n",
    "X_test_lasso = X_test[lasso_selected_features]\n",
    "\n",
    "model.fit(X_train_lasso, y_train)\n",
    "y_pred_lasso = model.predict(X_test_lasso)\n",
    "mse_lasso = mean_squared_error(y_test, y_pred_lasso)\n",
    "\n",
    "print(f\"Lasso MSE: {mse_lasso:.2f}\")"
   ]
  },
  {
   "cell_type": "markdown",
   "id": "bbeb0553-a8f9-4592-a3f7-bbc8526902ed",
   "metadata": {},
   "source": [
    "Случайный лес: анализирует, какие признаки используются для уменьшения неопределенности на более высоких уровнях дерева (например, в корне или в верхних уровнях)."
   ]
  },
  {
   "cell_type": "code",
   "execution_count": 10,
   "id": "e0c18555-c3da-4401-a690-66a981d4e3c3",
   "metadata": {},
   "outputs": [
    {
     "name": "stdout",
     "output_type": "stream",
     "text": [
      "Random Forest MSE: 2874.54\n"
     ]
    }
   ],
   "source": [
    "rf = RandomForestRegressor(n_estimators=100, random_state=42)\n",
    "rf.fit(X_train, y_train)\n",
    "rf_feature_importance = pd.Series(rf.feature_importances_, index=X.columns)\n",
    "rf_selected_features = rf_feature_importance.sort_values(ascending=False).index[:5].tolist()\n",
    "\n",
    "X_train_rf = X_train[rf_selected_features]\n",
    "X_test_rf = X_test[rf_selected_features]\n",
    "\n",
    "model.fit(X_train_rf, y_train)\n",
    "y_pred_rf = model.predict(X_test_rf)\n",
    "mse_rf = mean_squared_error(y_test, y_pred_rf)\n",
    "\n",
    "print(f\"Random Forest MSE: {mse_rf:.2f}\")"
   ]
  },
  {
   "cell_type": "markdown",
   "id": "b1e11f97-0e28-4224-b7da-401b109118f5",
   "metadata": {},
   "source": [
    "Метод главных компонент PCA: отбирает компоненты, которые максимально сохраняют информацию при уменьшении объема данных"
   ]
  },
  {
   "cell_type": "code",
   "execution_count": 12,
   "id": "9c0e3859-7b90-4803-a650-344237ffc3e2",
   "metadata": {},
   "outputs": [
    {
     "name": "stdout",
     "output_type": "stream",
     "text": [
      "PCA Explained Variance: 0.84\n"
     ]
    }
   ],
   "source": [
    "pca = PCA(n_components=5)\n",
    "X_train_pca = pca.fit_transform(X_train)\n",
    "X_test_pca = pca.transform(X_test)\n",
    "\n",
    "explained_variance = np.sum(pca.explained_variance_ratio_)\n",
    "\n",
    "print(f\"PCA Explained Variance: {explained_variance:.2f}\")"
   ]
  },
  {
   "cell_type": "markdown",
   "id": "341b0966-6f5b-4b5b-817e-8c1e2181bbc8",
   "metadata": {},
   "source": [
    "Визуализация всех методов"
   ]
  },
  {
   "cell_type": "code",
   "execution_count": 14,
   "id": "2ebefcb6-32aa-44d4-8e16-f9b1a56c1774",
   "metadata": {},
   "outputs": [
    {
     "data": {
      "image/png": "[encoded data removed]",
      "text/plain": [
       "<Figure size 2000x500 with 4 Axes>"
      ]
     },
     "metadata": {},
     "output_type": "display_data"
    }
   ],
   "source": [
    "fig, axes = plt.subplots(1, 4, figsize=(20, 5))\n",
    "\n",
    "# Spearman\n",
    "sns.barplot(x=spearman_corr.abs().sort_values(ascending=False)[:10].index,\n",
    "            y=spearman_corr.abs().sort_values(ascending=False)[:10].values, ax=axes[0])\n",
    "axes[0].set_title(\"Корреляция Спирмена\")\n",
    "axes[0].tick_params(axis='x', rotation=45)\n",
    "\n",
    "# RFE\n",
    "rfe_ranks = pd.Series(rfe.ranking_, index=X.columns)\n",
    "sns.barplot(x=rfe_ranks.sort_values()[:10].index, y=rfe_ranks.sort_values()[:10].values, ax=axes[1])\n",
    "axes[1].set_title(\"RFE (меньше = важнее)\")\n",
    "axes[1].tick_params(axis='x', rotation=45)\n",
    "\n",
    "# Random Forest\n",
    "sns.barplot(x=rf_feature_importance.sort_values(ascending=False)[:10].index,\n",
    "            y=rf_feature_importance.sort_values(ascending=False)[:10].values, ax=axes[2])\n",
    "axes[2].set_title(\"Random Forest\")\n",
    "axes[2].tick_params(axis='x', rotation=45)\n",
    "\n",
    "# Lasso\n",
    "sns.barplot(x=lasso_selected_features, \n",
    "            y=np.abs(lasso.coef_[[X.columns.get_loc(col) for col in lasso_selected_features]]), ax=axes[3])\n",
    "axes[3].set_title(\"Lasso\")\n",
    "axes[3].tick_params(axis='x', rotation=45)\n",
    "\n",
    "plt.tight_layout()\n",
    "plt.show()\n"
   ]
  }
 ],
 "metadata": {
  "kernelspec": {
   "display_name": "Python 3 (ipykernel)",
   "language": "python",
   "name": "python3"
  },
  "language_info": {
   "codemirror_mode": {
    "name": "ipython",
    "version": 3
   },
   "file_extension": ".py",
   "mimetype": "text/x-python",
   "name": "python",
   "nbconvert_exporter": "python",
   "pygments_lexer": "ipython3",
   "version": "3.12.7"
  }
 },
 "nbformat": 4,
 "nbformat_minor": 5
}
